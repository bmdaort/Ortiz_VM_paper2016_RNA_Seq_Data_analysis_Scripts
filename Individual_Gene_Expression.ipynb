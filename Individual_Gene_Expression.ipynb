{
 "cells": [
  {
   "cell_type": "code",
   "execution_count": 1,
   "metadata": {
    "collapsed": false
   },
   "outputs": [],
   "source": [
    "%matplotlib inline\n",
    "import os\n",
    "import matplotlib\n",
    "import numpy as np\n",
    "import matplotlib.pyplot as plt\n",
    "import pandas as pd\n",
    "import math\n",
    "from pylab import savefig\n",
    "import seaborn as sns\n",
    "import matplotlib_venn as vnn\n",
    "from matplotlib import rcParams\n",
    "rcParams.update({'figure.autolayout': True})\n",
    "sns.set(style=\"white\")\n",
    "sns.set_palette('colorblind')"
   ]
  },
  {
   "cell_type": "code",
   "execution_count": 2,
   "metadata": {
    "collapsed": true
   },
   "outputs": [],
   "source": [
    "path='/Users/Daniel/Google Drive/Daniel Ortiz/RNA-seq/Data_Analysis/'\n",
    "os.chdir(path)"
   ]
  },
  {
   "cell_type": "code",
   "execution_count": 3,
   "metadata": {
    "collapsed": false
   },
   "outputs": [],
   "source": [
    "Cell_lines=['MDA','HT1080','HFF']\n",
    "Conditions=['1mg','2.5mg','6mg']\n",
    "Exp={}\n",
    "for line in Cell_lines:\n",
    "    Exp[line]=pd.read_csv(line+'_expressed.csv')\n",
    "    Exp[line].index=Exp[line]['Gene']\n",
    "    Exp[line]=Exp[line].drop(['Gene'],axis=1)"
   ]
  },
  {
   "cell_type": "markdown",
   "metadata": {
    "collapsed": true
   },
   "source": [
    "#GOI=Exp['MDA'][Exp['MDA'].index.str.startswith('ANGPTL')].index.tolist()\n",
    "#GOI=['HIF1A','EPAS1','ARNT','ARNT2','VEGFA','VEGFB']\n",
    "#GOI=['ANGPTL4',\n",
    "'COL18A1',\n",
    "'CXCL5',\n",
    "'CXCL6',\n",
    "'CXCL9',\n",
    "'CXCL10',\n",
    "'ECGF1',\n",
    "'EDG1',\n",
    "'EFNA1',\n",
    "'EFNA2',\n",
    "'EFNB2',\n",
    "'FGFR3',\n",
    "'HAND2',\n",
    "'HGF',\n",
    "'HIF1A',\n",
    "'ID3',\n",
    "'IFNA1',\n",
    "'IFNG',\n",
    "'IL12A',\n",
    "'IL18',\n",
    "'JAG1',\n",
    "'LECT1',\n",
    "'LEP',\n",
    "'MMP2',\n",
    "'MMP9',\n",
    "'NOTCH4',\n",
    "'NRP1',\n",
    "'NUDT6',\n",
    "'PDGFA',\n",
    "'PGF',\n",
    "'PLDC1',\n",
    "'PROK2',\n",
    "'PTEN',\n",
    "'PTGS1',\n",
    "'TEK',\n",
    "'TGFA',\n",
    "'THBS1',\n",
    "'THBS2',\n",
    "'TIMP3',\n",
    "'TNF',\n",
    "'VEGF',\n",
    "'VEGFC',\n",
    "'AGGF1']"
   ]
  },
  {
   "cell_type": "code",
   "execution_count": 4,
   "metadata": {
    "collapsed": true
   },
   "outputs": [],
   "source": [
    "GOI=[\n",
    "    'MT-ATP6',\n",
    "'MT-CO2',\n",
    "'MT-CO1',\n",
    "'MT-ND2',\n",
    "'MT-ND4',\n",
    "'MT-ND5',\n",
    "'MT-CYB',\n",
    "'MT-ATP8',\n",
    "'MT-CO3',\n",
    "'MT-ND3',\n",
    "'MT-ND1',\n",
    "'MT-ND4L',\n",
    "'MT-ND6',\n",
    "]\n",
    "GOI=['SLPI']"
   ]
  },
  {
   "cell_type": "code",
   "execution_count": 5,
   "metadata": {
    "collapsed": false
   },
   "outputs": [
    {
     "ename": "KeyError",
     "evalue": "\"None of [['SLPI']] are in the [index]\"",
     "output_type": "error",
     "traceback": [
      "\u001b[0;31m---------------------------------------------------------------------------\u001b[0m",
      "\u001b[0;31mKeyError\u001b[0m                                  Traceback (most recent call last)",
      "\u001b[0;32m<ipython-input-5-691abc198130>\u001b[0m in \u001b[0;36m<module>\u001b[0;34m()\u001b[0m\n\u001b[1;32m      2\u001b[0m \u001b[0mfig\u001b[0m\u001b[0;34m,\u001b[0m \u001b[0maxes\u001b[0m \u001b[0;34m=\u001b[0m \u001b[0mplt\u001b[0m\u001b[0;34m.\u001b[0m\u001b[0msubplots\u001b[0m\u001b[0;34m(\u001b[0m\u001b[0mfigsize\u001b[0m\u001b[0;34m=\u001b[0m\u001b[0;34m(\u001b[0m\u001b[0;36m17\u001b[0m\u001b[0;34m,\u001b[0m\u001b[0;36m2.5\u001b[0m\u001b[0;34m)\u001b[0m\u001b[0;34m,\u001b[0m\u001b[0mnrows\u001b[0m\u001b[0;34m=\u001b[0m\u001b[0;36m1\u001b[0m\u001b[0;34m,\u001b[0m \u001b[0mncols\u001b[0m\u001b[0;34m=\u001b[0m\u001b[0;36m3\u001b[0m\u001b[0;34m)\u001b[0m\u001b[0;34m\u001b[0m\u001b[0m\n\u001b[1;32m      3\u001b[0m \u001b[0;32mfor\u001b[0m \u001b[0mline\u001b[0m \u001b[0;32min\u001b[0m \u001b[0mCell_lines\u001b[0m\u001b[0;34m:\u001b[0m\u001b[0;34m\u001b[0m\u001b[0m\n\u001b[0;32m----> 4\u001b[0;31m     \u001b[0max\u001b[0m\u001b[0;34m=\u001b[0m\u001b[0mExp\u001b[0m\u001b[0;34m[\u001b[0m\u001b[0mline\u001b[0m\u001b[0;34m]\u001b[0m\u001b[0;34m.\u001b[0m\u001b[0mloc\u001b[0m\u001b[0;34m[\u001b[0m\u001b[0mGOI\u001b[0m\u001b[0;34m]\u001b[0m\u001b[0;34m.\u001b[0m\u001b[0mplot\u001b[0m\u001b[0;34m(\u001b[0m\u001b[0mkind\u001b[0m\u001b[0;34m=\u001b[0m\u001b[0;34m'bar'\u001b[0m\u001b[0;34m,\u001b[0m\u001b[0max\u001b[0m\u001b[0;34m=\u001b[0m\u001b[0maxes\u001b[0m\u001b[0;34m[\u001b[0m\u001b[0mi\u001b[0m\u001b[0;34m]\u001b[0m\u001b[0;34m)\u001b[0m\u001b[0;34m\u001b[0m\u001b[0m\n\u001b[0m\u001b[1;32m      5\u001b[0m     \u001b[0msns\u001b[0m\u001b[0;34m.\u001b[0m\u001b[0mdespine\u001b[0m\u001b[0;34m(\u001b[0m\u001b[0;34m)\u001b[0m\u001b[0;34m\u001b[0m\u001b[0m\n\u001b[1;32m      6\u001b[0m     \u001b[0max\u001b[0m\u001b[0;34m.\u001b[0m\u001b[0mset_title\u001b[0m\u001b[0;34m(\u001b[0m\u001b[0mline\u001b[0m\u001b[0;34m)\u001b[0m\u001b[0;34m\u001b[0m\u001b[0m\n",
      "\u001b[0;32m/Users/Daniel/anaconda2/lib/python2.7/site-packages/pandas/core/indexing.pyc\u001b[0m in \u001b[0;36m__getitem__\u001b[0;34m(self, key)\u001b[0m\n\u001b[1;32m   1284\u001b[0m             \u001b[0;32mreturn\u001b[0m \u001b[0mself\u001b[0m\u001b[0;34m.\u001b[0m\u001b[0m_getitem_tuple\u001b[0m\u001b[0;34m(\u001b[0m\u001b[0mkey\u001b[0m\u001b[0;34m)\u001b[0m\u001b[0;34m\u001b[0m\u001b[0m\n\u001b[1;32m   1285\u001b[0m         \u001b[0;32melse\u001b[0m\u001b[0;34m:\u001b[0m\u001b[0;34m\u001b[0m\u001b[0m\n\u001b[0;32m-> 1286\u001b[0;31m             \u001b[0;32mreturn\u001b[0m \u001b[0mself\u001b[0m\u001b[0;34m.\u001b[0m\u001b[0m_getitem_axis\u001b[0m\u001b[0;34m(\u001b[0m\u001b[0mkey\u001b[0m\u001b[0;34m,\u001b[0m \u001b[0maxis\u001b[0m\u001b[0;34m=\u001b[0m\u001b[0;36m0\u001b[0m\u001b[0;34m)\u001b[0m\u001b[0;34m\u001b[0m\u001b[0m\n\u001b[0m\u001b[1;32m   1287\u001b[0m \u001b[0;34m\u001b[0m\u001b[0m\n\u001b[1;32m   1288\u001b[0m     \u001b[0;32mdef\u001b[0m \u001b[0m_getitem_axis\u001b[0m\u001b[0;34m(\u001b[0m\u001b[0mself\u001b[0m\u001b[0;34m,\u001b[0m \u001b[0mkey\u001b[0m\u001b[0;34m,\u001b[0m \u001b[0maxis\u001b[0m\u001b[0;34m=\u001b[0m\u001b[0;36m0\u001b[0m\u001b[0;34m)\u001b[0m\u001b[0;34m:\u001b[0m\u001b[0;34m\u001b[0m\u001b[0m\n",
      "\u001b[0;32m/Users/Daniel/anaconda2/lib/python2.7/site-packages/pandas/core/indexing.pyc\u001b[0m in \u001b[0;36m_getitem_axis\u001b[0;34m(self, key, axis)\u001b[0m\n\u001b[1;32m   1417\u001b[0m                     \u001b[0;32mraise\u001b[0m \u001b[0mValueError\u001b[0m\u001b[0;34m(\u001b[0m\u001b[0;34m'Cannot index with multidimensional key'\u001b[0m\u001b[0;34m)\u001b[0m\u001b[0;34m\u001b[0m\u001b[0m\n\u001b[1;32m   1418\u001b[0m \u001b[0;34m\u001b[0m\u001b[0m\n\u001b[0;32m-> 1419\u001b[0;31m                 \u001b[0;32mreturn\u001b[0m \u001b[0mself\u001b[0m\u001b[0;34m.\u001b[0m\u001b[0m_getitem_iterable\u001b[0m\u001b[0;34m(\u001b[0m\u001b[0mkey\u001b[0m\u001b[0;34m,\u001b[0m \u001b[0maxis\u001b[0m\u001b[0;34m=\u001b[0m\u001b[0maxis\u001b[0m\u001b[0;34m)\u001b[0m\u001b[0;34m\u001b[0m\u001b[0m\n\u001b[0m\u001b[1;32m   1420\u001b[0m \u001b[0;34m\u001b[0m\u001b[0m\n\u001b[1;32m   1421\u001b[0m             \u001b[0;31m# nested tuple slicing\u001b[0m\u001b[0;34m\u001b[0m\u001b[0;34m\u001b[0m\u001b[0m\n",
      "\u001b[0;32m/Users/Daniel/anaconda2/lib/python2.7/site-packages/pandas/core/indexing.pyc\u001b[0m in \u001b[0;36m_getitem_iterable\u001b[0;34m(self, key, axis)\u001b[0m\n\u001b[1;32m   1016\u001b[0m     \u001b[0;32mdef\u001b[0m \u001b[0m_getitem_iterable\u001b[0m\u001b[0;34m(\u001b[0m\u001b[0mself\u001b[0m\u001b[0;34m,\u001b[0m \u001b[0mkey\u001b[0m\u001b[0;34m,\u001b[0m \u001b[0maxis\u001b[0m\u001b[0;34m=\u001b[0m\u001b[0;36m0\u001b[0m\u001b[0;34m)\u001b[0m\u001b[0;34m:\u001b[0m\u001b[0;34m\u001b[0m\u001b[0m\n\u001b[1;32m   1017\u001b[0m         \u001b[0;32mif\u001b[0m \u001b[0mself\u001b[0m\u001b[0;34m.\u001b[0m\u001b[0m_should_validate_iterable\u001b[0m\u001b[0;34m(\u001b[0m\u001b[0maxis\u001b[0m\u001b[0;34m)\u001b[0m\u001b[0;34m:\u001b[0m\u001b[0;34m\u001b[0m\u001b[0m\n\u001b[0;32m-> 1018\u001b[0;31m             \u001b[0mself\u001b[0m\u001b[0;34m.\u001b[0m\u001b[0m_has_valid_type\u001b[0m\u001b[0;34m(\u001b[0m\u001b[0mkey\u001b[0m\u001b[0;34m,\u001b[0m \u001b[0maxis\u001b[0m\u001b[0;34m)\u001b[0m\u001b[0;34m\u001b[0m\u001b[0m\n\u001b[0m\u001b[1;32m   1019\u001b[0m \u001b[0;34m\u001b[0m\u001b[0m\n\u001b[1;32m   1020\u001b[0m         \u001b[0mlabels\u001b[0m \u001b[0;34m=\u001b[0m \u001b[0mself\u001b[0m\u001b[0;34m.\u001b[0m\u001b[0mobj\u001b[0m\u001b[0;34m.\u001b[0m\u001b[0m_get_axis\u001b[0m\u001b[0;34m(\u001b[0m\u001b[0maxis\u001b[0m\u001b[0;34m)\u001b[0m\u001b[0;34m\u001b[0m\u001b[0m\n",
      "\u001b[0;32m/Users/Daniel/anaconda2/lib/python2.7/site-packages/pandas/core/indexing.pyc\u001b[0m in \u001b[0;36m_has_valid_type\u001b[0;34m(self, key, axis)\u001b[0m\n\u001b[1;32m   1365\u001b[0m \u001b[0;34m\u001b[0m\u001b[0m\n\u001b[1;32m   1366\u001b[0m                 raise KeyError(\"None of [%s] are in the [%s]\" %\n\u001b[0;32m-> 1367\u001b[0;31m                                (key, self.obj._get_axis_name(axis)))\n\u001b[0m\u001b[1;32m   1368\u001b[0m \u001b[0;34m\u001b[0m\u001b[0m\n\u001b[1;32m   1369\u001b[0m             \u001b[0;32mreturn\u001b[0m \u001b[0mTrue\u001b[0m\u001b[0;34m\u001b[0m\u001b[0m\n",
      "\u001b[0;31mKeyError\u001b[0m: \"None of [['SLPI']] are in the [index]\""
     ]
    },
    {
     "name": "stderr",
     "output_type": "stream",
     "text": [
      "/Users/Daniel/anaconda2/lib/python2.7/site-packages/matplotlib/figure.py:1744: UserWarning: This figure includes Axes that are not compatible with tight_layout, so its results might be incorrect.\n",
      "  warnings.warn(\"This figure includes Axes that are not \"\n"
     ]
    },
    {
     "data": {
      "image/png": "[encoded data removed]",
      "text/plain": [
       "<matplotlib.figure.Figure at 0x1181c3bd0>"
      ]
     },
     "metadata": {},
     "output_type": "display_data"
    }
   ],
   "source": [
    "i=0\n",
    "fig, axes = plt.subplots(figsize=(17,2.5),nrows=1, ncols=3)\n",
    "for line in Cell_lines:\n",
    "    ax=Exp[line].loc[GOI].plot(kind='bar',ax=axes[i])\n",
    "    sns.despine()\n",
    "    ax.set_title(line)\n",
    "    ax.set_xlabel('')\n",
    "    ax.set_xticklabels(GOI,rotation=0)\n",
    "    ax.legend( loc='center right', bbox_to_anchor=(1.7, 0.85))\n",
    "    if i<2:        \n",
    "        ax.legend_.remove()\n",
    "    if i==0:\n",
    "        ax.set_ylabel('TPM')\n",
    "    i+=1\n",
    "plt.show()\n"
   ]
  },
  {
   "cell_type": "code",
   "execution_count": 10,
   "metadata": {
    "collapsed": false
   },
   "outputs": [
    {
     "data": {
      "text/plain": [
       "1mg       481.292258\n",
       "2-5mg     660.237957\n",
       "6mg      1069.938962\n",
       "2D        817.738487\n",
       "Name: ITGB1, dtype: float64"
      ]
     },
     "execution_count": 10,
     "metadata": {},
     "output_type": "execute_result"
    }
   ],
   "source": [
    "Exp['MDA'].loc['ITGB1']"
   ]
  },
  {
   "cell_type": "markdown",
   "metadata": {
    "collapsed": false
   },
   "source": [
    "## GOI=['ANGPTL4','COL18A1','EFNB2','HIF1A','ID3','IL18','JAG1','NRP1','PGF','PTEN','TGFA','THBS1','TIMP3','AGGF1']\n",
    "fig, axes = plt.subplots(figsize=(15,5),nrows=1, ncols=1)\n",
    "ax=Exp['HFF'].loc[GOI].plot(kind='bar',ax=axes)\n",
    "ax.set_ylabel('TPM')\n",
    "sns.despine()"
   ]
  },
  {
   "cell_type": "code",
   "execution_count": 14,
   "metadata": {
    "collapsed": false
   },
   "outputs": [
    {
     "name": "stdout",
     "output_type": "stream",
     "text": [
      "Series([], Name: LAMC2, dtype: float64)\n"
     ]
    }
   ],
   "source": [
    "GOI=['MRC2', 'LTBP1', 'LAMC2', 'ZNF532', 'EDN1',\n",
    "     'LPCAT2', 'LTBP4', 'LAMB1', 'TYRO3', 'HPS4', 'HMOX1', 'DAAM1',\n",
    "     'FERMT1', 'JAG1', 'SMAD7', 'LFNG', 'HES1', 'ID2', 'TGFBI', 'TRMT13',\n",
    "     'PODXL', 'COL5A1', 'SYNE1', 'ZMYM5', 'EPHB2', 'ARNTL', 'VHL', 'BHLHE40',\n",
    "     'NAV1', 'COL4A2', 'ARHGAP32', 'NREP', 'IGF2BP3', 'SKIL', 'THBS1', 'ITGAV', 'AMIGO2',\n",
    "     'FRMD6', 'EFCAB11', 'TPM1', 'FURIN', 'ABL2', 'LHFPL2', 'SNX30', 'TAGLN', 'KIN', 'PID1', 'WDR66', 'GALNT10',\n",
    "     'RASEF', 'NKX3-1', 'TBC1D2B', 'RBPJ', 'NLGN2', 'TANC2', 'ABLIM3', 'PEAK1', 'DPY19L1', 'TVP23C', 'AGTRAP', 'FAM43A',\n",
    "     'SDHAP1', 'COL4A1', 'MKL1', 'SIPA1L1', 'KCTD11', 'MTND2P28', 'GTF2IP4', 'H2BFS', 'ZNF224']\n",
    "print Exp['HT1080'].loc['LAMC2'][39:70]"
   ]
  },
  {
   "cell_type": "code",
   "execution_count": 15,
   "metadata": {
    "collapsed": false
   },
   "outputs": [
    {
     "ename": "KeyError",
     "evalue": "\"None of [['CDH1']] are in the [index]\"",
     "output_type": "error",
     "traceback": [
      "\u001b[0;31m---------------------------------------------------------------------------\u001b[0m",
      "\u001b[0;31mKeyError\u001b[0m                                  Traceback (most recent call last)",
      "\u001b[0;32m<ipython-input-15-28585f467feb>\u001b[0m in \u001b[0;36m<module>\u001b[0;34m()\u001b[0m\n\u001b[1;32m      1\u001b[0m \u001b[0mGOI\u001b[0m\u001b[0;34m=\u001b[0m\u001b[0;34m[\u001b[0m\u001b[0;34m'CDH1'\u001b[0m\u001b[0;34m]\u001b[0m\u001b[0;34m\u001b[0m\u001b[0m\n\u001b[0;32m----> 2\u001b[0;31m \u001b[0mExp\u001b[0m\u001b[0;34m[\u001b[0m\u001b[0;34m'MDA'\u001b[0m\u001b[0;34m]\u001b[0m\u001b[0;34m.\u001b[0m\u001b[0mloc\u001b[0m\u001b[0;34m[\u001b[0m\u001b[0mGOI\u001b[0m\u001b[0;34m]\u001b[0m\u001b[0;34m\u001b[0m\u001b[0m\n\u001b[0m",
      "\u001b[0;32m/Users/Daniel/anaconda2/lib/python2.7/site-packages/pandas/core/indexing.pyc\u001b[0m in \u001b[0;36m__getitem__\u001b[0;34m(self, key)\u001b[0m\n\u001b[1;32m   1284\u001b[0m             \u001b[0;32mreturn\u001b[0m \u001b[0mself\u001b[0m\u001b[0;34m.\u001b[0m\u001b[0m_getitem_tuple\u001b[0m\u001b[0;34m(\u001b[0m\u001b[0mkey\u001b[0m\u001b[0;34m)\u001b[0m\u001b[0;34m\u001b[0m\u001b[0m\n\u001b[1;32m   1285\u001b[0m         \u001b[0;32melse\u001b[0m\u001b[0;34m:\u001b[0m\u001b[0;34m\u001b[0m\u001b[0m\n\u001b[0;32m-> 1286\u001b[0;31m             \u001b[0;32mreturn\u001b[0m \u001b[0mself\u001b[0m\u001b[0;34m.\u001b[0m\u001b[0m_getitem_axis\u001b[0m\u001b[0;34m(\u001b[0m\u001b[0mkey\u001b[0m\u001b[0;34m,\u001b[0m \u001b[0maxis\u001b[0m\u001b[0;34m=\u001b[0m\u001b[0;36m0\u001b[0m\u001b[0;34m)\u001b[0m\u001b[0;34m\u001b[0m\u001b[0m\n\u001b[0m\u001b[1;32m   1287\u001b[0m \u001b[0;34m\u001b[0m\u001b[0m\n\u001b[1;32m   1288\u001b[0m     \u001b[0;32mdef\u001b[0m \u001b[0m_getitem_axis\u001b[0m\u001b[0;34m(\u001b[0m\u001b[0mself\u001b[0m\u001b[0;34m,\u001b[0m \u001b[0mkey\u001b[0m\u001b[0;34m,\u001b[0m \u001b[0maxis\u001b[0m\u001b[0;34m=\u001b[0m\u001b[0;36m0\u001b[0m\u001b[0;34m)\u001b[0m\u001b[0;34m:\u001b[0m\u001b[0;34m\u001b[0m\u001b[0m\n",
      "\u001b[0;32m/Users/Daniel/anaconda2/lib/python2.7/site-packages/pandas/core/indexing.pyc\u001b[0m in \u001b[0;36m_getitem_axis\u001b[0;34m(self, key, axis)\u001b[0m\n\u001b[1;32m   1417\u001b[0m                     \u001b[0;32mraise\u001b[0m \u001b[0mValueError\u001b[0m\u001b[0;34m(\u001b[0m\u001b[0;34m'Cannot index with multidimensional key'\u001b[0m\u001b[0;34m)\u001b[0m\u001b[0;34m\u001b[0m\u001b[0m\n\u001b[1;32m   1418\u001b[0m \u001b[0;34m\u001b[0m\u001b[0m\n\u001b[0;32m-> 1419\u001b[0;31m                 \u001b[0;32mreturn\u001b[0m \u001b[0mself\u001b[0m\u001b[0;34m.\u001b[0m\u001b[0m_getitem_iterable\u001b[0m\u001b[0;34m(\u001b[0m\u001b[0mkey\u001b[0m\u001b[0;34m,\u001b[0m \u001b[0maxis\u001b[0m\u001b[0;34m=\u001b[0m\u001b[0maxis\u001b[0m\u001b[0;34m)\u001b[0m\u001b[0;34m\u001b[0m\u001b[0m\n\u001b[0m\u001b[1;32m   1420\u001b[0m \u001b[0;34m\u001b[0m\u001b[0m\n\u001b[1;32m   1421\u001b[0m             \u001b[0;31m# nested tuple slicing\u001b[0m\u001b[0;34m\u001b[0m\u001b[0;34m\u001b[0m\u001b[0m\n",
      "\u001b[0;32m/Users/Daniel/anaconda2/lib/python2.7/site-packages/pandas/core/indexing.pyc\u001b[0m in \u001b[0;36m_getitem_iterable\u001b[0;34m(self, key, axis)\u001b[0m\n\u001b[1;32m   1016\u001b[0m     \u001b[0;32mdef\u001b[0m \u001b[0m_getitem_iterable\u001b[0m\u001b[0;34m(\u001b[0m\u001b[0mself\u001b[0m\u001b[0;34m,\u001b[0m \u001b[0mkey\u001b[0m\u001b[0;34m,\u001b[0m \u001b[0maxis\u001b[0m\u001b[0;34m=\u001b[0m\u001b[0;36m0\u001b[0m\u001b[0;34m)\u001b[0m\u001b[0;34m:\u001b[0m\u001b[0;34m\u001b[0m\u001b[0m\n\u001b[1;32m   1017\u001b[0m         \u001b[0;32mif\u001b[0m \u001b[0mself\u001b[0m\u001b[0;34m.\u001b[0m\u001b[0m_should_validate_iterable\u001b[0m\u001b[0;34m(\u001b[0m\u001b[0maxis\u001b[0m\u001b[0;34m)\u001b[0m\u001b[0;34m:\u001b[0m\u001b[0;34m\u001b[0m\u001b[0m\n\u001b[0;32m-> 1018\u001b[0;31m             \u001b[0mself\u001b[0m\u001b[0;34m.\u001b[0m\u001b[0m_has_valid_type\u001b[0m\u001b[0;34m(\u001b[0m\u001b[0mkey\u001b[0m\u001b[0;34m,\u001b[0m \u001b[0maxis\u001b[0m\u001b[0;34m)\u001b[0m\u001b[0;34m\u001b[0m\u001b[0m\n\u001b[0m\u001b[1;32m   1019\u001b[0m \u001b[0;34m\u001b[0m\u001b[0m\n\u001b[1;32m   1020\u001b[0m         \u001b[0mlabels\u001b[0m \u001b[0;34m=\u001b[0m \u001b[0mself\u001b[0m\u001b[0;34m.\u001b[0m\u001b[0mobj\u001b[0m\u001b[0;34m.\u001b[0m\u001b[0m_get_axis\u001b[0m\u001b[0;34m(\u001b[0m\u001b[0maxis\u001b[0m\u001b[0;34m)\u001b[0m\u001b[0;34m\u001b[0m\u001b[0m\n",
      "\u001b[0;32m/Users/Daniel/anaconda2/lib/python2.7/site-packages/pandas/core/indexing.pyc\u001b[0m in \u001b[0;36m_has_valid_type\u001b[0;34m(self, key, axis)\u001b[0m\n\u001b[1;32m   1365\u001b[0m \u001b[0;34m\u001b[0m\u001b[0m\n\u001b[1;32m   1366\u001b[0m                 raise KeyError(\"None of [%s] are in the [%s]\" %\n\u001b[0;32m-> 1367\u001b[0;31m                                (key, self.obj._get_axis_name(axis)))\n\u001b[0m\u001b[1;32m   1368\u001b[0m \u001b[0;34m\u001b[0m\u001b[0m\n\u001b[1;32m   1369\u001b[0m             \u001b[0;32mreturn\u001b[0m \u001b[0mTrue\u001b[0m\u001b[0;34m\u001b[0m\u001b[0m\n",
      "\u001b[0;31mKeyError\u001b[0m: \"None of [['CDH1']] are in the [index]\""
     ]
    }
   ],
   "source": [
    "GOI=['CDH1']\n",
    "Exp['MDA'].loc[GOI]"
   ]
  },
  {
   "cell_type": "code",
   "execution_count": null,
   "metadata": {
    "collapsed": false
   },
   "outputs": [],
   "source": [
    "Exp['HFF'].loc[GOI]"
   ]
  },
  {
   "cell_type": "code",
   "execution_count": null,
   "metadata": {
    "collapsed": false,
    "scrolled": true
   },
   "outputs": [],
   "source": [
    "fig, axes = plt.subplots(figsize=(5,3.5),nrows=1, ncols=1)\n",
    "ax=Exp['MDA'].loc[GOI].plot(kind='bar',ax=axes)\n",
    "#plt.xticks(range(len(Conditions)), Conditions,rotation=25)\n",
    "ax.set_ylabel('TPM')\n",
    "ax.set_title('MDA-MB-231')\n",
    "sns.despine()\n",
    "#savefig('MDA_HIF_VEGFA_VEGFB.png',dpi=300)"
   ]
  },
  {
   "cell_type": "code",
   "execution_count": null,
   "metadata": {
    "collapsed": false
   },
   "outputs": [],
   "source": [
    "fig, axes = plt.subplots(figsize=(5,3.5),nrows=1, ncols=1)\n",
    "ax=Exp['HFF'].loc[GOI].plot(kind='bar',ax=axes)\n",
    "#plt.xticks(range(len(Conditions)), Conditions,rotation=25)\n",
    "ax.set_ylabel('TPM')\n",
    "ax.set_title('HFF')\n",
    "sns.despine()\n",
    "savefig('HFF_HIF_VEGFA_VEGFB.png',dpi=300)"
   ]
  },
  {
   "cell_type": "code",
   "execution_count": null,
   "metadata": {
    "collapsed": false
   },
   "outputs": [],
   "source": [
    "fig, axes = plt.subplots(figsize=(5,3.5),nrows=1, ncols=1)\n",
    "ax=Exp['HT1080'].loc[GOI].plot(kind='bar',ax=axes)\n",
    "#plt.xticks(range(len(Conditions)), Conditions,rotation=25)\n",
    "ax.set_ylabel('TPM')\n",
    "ax.set_title('HT1080')\n",
    "sns.despine()\n",
    "savefig('HT1080_HIF_VEGFA_VEGFB.png',dpi=300)"
   ]
  },
  {
   "cell_type": "markdown",
   "metadata": {
    "collapsed": false
   },
   "source": [
    "## Hypoxia panel\n",
    "http://www.sabiosciences.com/rt_pcr_product/HTML/PAHS-032A.html"
   ]
  },
  {
   "cell_type": "code",
   "execution_count": null,
   "metadata": {
    "collapsed": false
   },
   "outputs": [],
   "source": [
    "GOI=['ANGPTL4', 'ARNT2', 'CREBBP', 'EP300', 'HIF1A', 'MT3', 'PRKAA1']"
   ]
  },
  {
   "cell_type": "code",
   "execution_count": null,
   "metadata": {
    "collapsed": false
   },
   "outputs": [],
   "source": [
    "i=0\n",
    "fig, axes = plt.subplots(figsize=(10,2.5),nrows=1, ncols=3)\n",
    "for line in Cell_lines:\n",
    "    ax=Exp[line].loc[GOI].plot(kind='bar',ax=axes[i])\n",
    "    sns.despine()\n",
    "    ax.set_title(line)\n",
    "    ax.set_xlabel('')\n",
    "    #ax.set_xticklabels(GOI,rotation=0)\n",
    "    ax.legend( loc='center right', bbox_to_anchor=(1.7, 0.85))\n",
    "    if i<2:        \n",
    "        ax.legend_.remove()\n",
    "    if i==0:\n",
    "        ax.set_ylabel('TPM')\n",
    "    i+=1\n",
    "plt.show()\n"
   ]
  },
  {
   "cell_type": "markdown",
   "metadata": {},
   "source": [
    "## Oxidative Stress"
   ]
  },
  {
   "cell_type": "code",
   "execution_count": null,
   "metadata": {
    "collapsed": true
   },
   "outputs": [],
   "source": [
    "GOI=['CAT', 'CYGB', 'GPX1', 'IPCEF1']"
   ]
  },
  {
   "cell_type": "code",
   "execution_count": null,
   "metadata": {
    "collapsed": false
   },
   "outputs": [],
   "source": [
    "i=0\n",
    "fig, axes = plt.subplots(figsize=(10,2.5),nrows=1, ncols=3)\n",
    "for line in Cell_lines:\n",
    "    ax=Exp[line].loc[GOI].plot(kind='bar',ax=axes[i])\n",
    "    sns.despine()\n",
    "    ax.set_title(line)\n",
    "    ax.set_xlabel('')\n",
    "    #ax.set_xticklabels(GOI,rotation=0)\n",
    "    ax.legend( loc='center right', bbox_to_anchor=(1.7, 0.85))\n",
    "    if i<2:        \n",
    "        ax.legend_.remove()\n",
    "    if i==0:\n",
    "        ax.set_ylabel('TPM')\n",
    "    i+=1\n",
    "plt.show()\n"
   ]
  },
  {
   "cell_type": "code",
   "execution_count": null,
   "metadata": {
    "collapsed": true
   },
   "outputs": [],
   "source": [
    "GOI=['REST']"
   ]
  },
  {
   "cell_type": "code",
   "execution_count": null,
   "metadata": {
    "collapsed": false
   },
   "outputs": [],
   "source": [
    "i=0\n",
    "fig, axes = plt.subplots(figsize=(10,2.5),nrows=1, ncols=3)\n",
    "for line in Cell_lines:\n",
    "    ax=Exp[line].loc[GOI].plot(kind='bar',ax=axes[i])\n",
    "    sns.despine()\n",
    "    ax.set_title(line)\n",
    "    ax.set_xlabel('')\n",
    "    #ax.set_xticklabels(GOI,rotation=0)\n",
    "    ax.legend( loc='center right', bbox_to_anchor=(1.7, 0.85))\n",
    "    if i<2:        \n",
    "        ax.legend_.remove()\n",
    "    if i==0:\n",
    "        ax.set_ylabel('TPM')\n",
    "    i+=1\n",
    "plt.show()\n"
   ]
  },
  {
   "cell_type": "code",
   "execution_count": null,
   "metadata": {
    "collapsed": true
   },
   "outputs": [],
   "source": [
    "GOI=['ANGPTL4','COL18A1','CXCL5','CXCL6','CXCL9','CXCL10','ECGF1','EDG1','EFNA1','EFNA3','EFNB2'\n",
    "    'FGFR3','HAND2','HGF','HIF1A','ID3','IFNA1','IFNG','IL12A','IL18','JAG1','LECT1','LEP',\n",
    "    'MMP2','MMP9','NOTCH4','NRP1','NUDT6','PDGFA','PGF','PLXDC1','PROK2','PTEN','PTGS1',\n",
    "    'TEK','TGFA','THBS1','THBS2','TIMP3','TNF','VEGF','VEGFC','AGGF1']"
   ]
  },
  {
   "cell_type": "code",
   "execution_count": null,
   "metadata": {
    "collapsed": false
   },
   "outputs": [],
   "source": [
    "Exp['HFF'].loc[GOI]"
   ]
  },
  {
   "cell_type": "code",
   "execution_count": null,
   "metadata": {
    "collapsed": false
   },
   "outputs": [],
   "source": [
    "HFF_FC1mg_2D=Exp['HFF']['1mg']/Exp['HFF']['2D']\n",
    "HFF_FC1mg_2D=HFF_FC1mg_2D.sort_values(axis=0, ascending=True)\n",
    "HFF_FC1mg_2D[HFF_FC1mg_2D>1.5]"
   ]
  },
  {
   "cell_type": "code",
   "execution_count": null,
   "metadata": {
    "collapsed": true
   },
   "outputs": [],
   "source": []
  }
 ],
 "metadata": {
  "kernelspec": {
   "display_name": "Python 2",
   "language": "python",
   "name": "python2"
  },
  "language_info": {
   "codemirror_mode": {
    "name": "ipython",
    "version": 2
   },
   "file_extension": ".py",
   "mimetype": "text/x-python",
   "name": "python",
   "nbconvert_exporter": "python",
   "pygments_lexer": "ipython2",
   "version": "2.7.12"
  }
 },
 "nbformat": 4,
 "nbformat_minor": 0
}
